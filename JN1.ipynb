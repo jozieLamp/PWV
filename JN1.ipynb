{
 "cells": [
  {
   "cell_type": "code",
   "execution_count": 142,
   "metadata": {},
   "outputs": [],
   "source": [
    "import pandas as pd\n",
    "from matplotlib import pyplot as plt\n",
    "pd.options.display.max_rows = 450"
   ]
  },
  {
   "cell_type": "code",
   "execution_count": 30,
   "metadata": {},
   "outputs": [],
   "source": [
    "TestPW = pd.read_csv(\"TestWaves.csv\", header=None)"
   ]
  },
  {
   "cell_type": "code",
   "execution_count": 32,
   "metadata": {},
   "outputs": [
    {
     "data": {
      "image/png": "[encoded data removed]",
      "text/plain": [
       "<Figure size 432x288 with 1 Axes>"
      ]
     },
     "metadata": {
      "needs_background": "light"
     },
     "output_type": "display_data"
    }
   ],
   "source": [
    "plt.plot(TestPW[20])\n",
    "plt.show()"
   ]
  },
  {
   "cell_type": "code",
   "execution_count": 129,
   "metadata": {},
   "outputs": [
    {
     "data": {
      "text/plain": [
       "0       75.592140\n",
       "1       75.653001\n",
       "2       76.157123\n",
       "3       77.113506\n",
       "4       78.254394\n",
       "5       79.359281\n",
       "6       80.360666\n",
       "7       81.275048\n",
       "8       82.131679\n",
       "9       82.950059\n",
       "10      83.739188\n",
       "11      84.489317\n",
       "12      85.180943\n",
       "13      85.804318\n",
       "14      86.360942\n",
       "15      86.860564\n",
       "16      87.312185\n",
       "17      87.723304\n",
       "18      88.099173\n",
       "19      88.446541\n",
       "20      88.773659\n",
       "21      89.089527\n",
       "22      89.399394\n",
       "23      89.704761\n",
       "24      90.006378\n",
       "25      90.307995\n",
       "26      90.612612\n",
       "27      90.920979\n",
       "28      91.232346\n",
       "29      91.547464\n",
       "30      91.868581\n",
       "31      92.200949\n",
       "32      92.548317\n",
       "33      92.912936\n",
       "34      93.289555\n",
       "35      93.672174\n",
       "36      94.052543\n",
       "37      94.423912\n",
       "38      94.781780\n",
       "39      95.124648\n",
       "40      95.451016\n",
       "41      95.760883\n",
       "42      96.055750\n",
       "43      96.337116\n",
       "44      96.604233\n",
       "45      96.857848\n",
       "46      97.095714\n",
       "47      97.317079\n",
       "48      97.521194\n",
       "49      97.705058\n",
       "50      97.868671\n",
       "51      98.010534\n",
       "52      98.131397\n",
       "53      98.230509\n",
       "54      98.309370\n",
       "55      98.368731\n",
       "56      98.408592\n",
       "57      98.431952\n",
       "58      98.440311\n",
       "59      98.436671\n",
       "60      98.424030\n",
       "61      98.405389\n",
       "62      98.385998\n",
       "63      98.367357\n",
       "64      98.353966\n",
       "65      98.348826\n",
       "66      98.354185\n",
       "67      98.370045\n",
       "68      98.397155\n",
       "69      98.437016\n",
       "70      98.486626\n",
       "71      98.546737\n",
       "72      98.615099\n",
       "73      98.689460\n",
       "74      98.769071\n",
       "75      98.851683\n",
       "76      98.935045\n",
       "77      99.018406\n",
       "78      99.098768\n",
       "79      99.176129\n",
       "80      99.248990\n",
       "81      99.316602\n",
       "82      99.378213\n",
       "83      99.434573\n",
       "84      99.483434\n",
       "85      99.527045\n",
       "86      99.564655\n",
       "87      99.597015\n",
       "88      99.624126\n",
       "89      99.646736\n",
       "90      99.665596\n",
       "91      99.681456\n",
       "92      99.694315\n",
       "93      99.704925\n",
       "94      99.714785\n",
       "95      99.723145\n",
       "96      99.731504\n",
       "97      99.739864\n",
       "98      99.748224\n",
       "99      99.758083\n",
       "100     99.769443\n",
       "101     99.781553\n",
       "102     99.795163\n",
       "103     99.811023\n",
       "104     99.828383\n",
       "105     99.846493\n",
       "106     99.866853\n",
       "107     99.887213\n",
       "108     99.908323\n",
       "109     99.930183\n",
       "110     99.950543\n",
       "111     99.970153\n",
       "112     99.988262\n",
       "113    100.004122\n",
       "114    100.016232\n",
       "115    100.025342\n",
       "116    100.029201\n",
       "117    100.029311\n",
       "118    100.023420\n",
       "119    100.011530\n",
       "120     99.992889\n",
       "121     99.967497\n",
       "122     99.935356\n",
       "123     99.895715\n",
       "124     99.847823\n",
       "125     99.791681\n",
       "126     99.727289\n",
       "127     99.653146\n",
       "128     99.569254\n",
       "129     99.475611\n",
       "130     99.369968\n",
       "131     99.252324\n",
       "132     99.121181\n",
       "133     98.975036\n",
       "134     98.813142\n",
       "135     98.632497\n",
       "136     98.433101\n",
       "137     98.211955\n",
       "138     97.967559\n",
       "139     97.698411\n",
       "140     97.401514\n",
       "141     97.079115\n",
       "142     96.868469\n",
       "143     96.600072\n",
       "144     96.324925\n",
       "145     96.047527\n",
       "146     95.779130\n",
       "147     95.542233\n",
       "148     95.377339\n",
       "149     95.344447\n",
       "150     95.522311\n",
       "151     95.970182\n",
       "152     96.605557\n",
       "153     97.135930\n",
       "154     97.376796\n",
       "155     97.383655\n",
       "156     97.356014\n",
       "157     97.323873\n",
       "158     97.271481\n",
       "159     97.209339\n",
       "160     97.130697\n",
       "161     97.031804\n",
       "162     96.919410\n",
       "163     96.803267\n",
       "164     96.687123\n",
       "165     96.567980\n",
       "166     96.441336\n",
       "167     96.305692\n",
       "168     96.166298\n",
       "169     96.027654\n",
       "170     95.892760\n",
       "171     95.761617\n",
       "172     95.635723\n",
       "173     95.517330\n",
       "174     95.410936\n",
       "175     95.318044\n",
       "176     95.237151\n",
       "177     95.165259\n",
       "178     95.100867\n",
       "179     95.043975\n",
       "180     94.994583\n",
       "181     94.951191\n",
       "182     94.907800\n",
       "183     94.861408\n",
       "184     94.808266\n",
       "185     94.748374\n",
       "186     94.683232\n",
       "187     94.613590\n",
       "188     94.540197\n",
       "189     94.463055\n",
       "190     94.382162\n",
       "191     94.299020\n",
       "192     94.212877\n",
       "193     94.122984\n",
       "194     94.027842\n",
       "195     93.928199\n",
       "196     93.822555\n",
       "197     93.711662\n",
       "198     93.594769\n",
       "199     93.472625\n",
       "200     93.345231\n",
       "201     93.214088\n",
       "202     93.079194\n",
       "203     92.942050\n",
       "204     92.803406\n",
       "205     92.664012\n",
       "206     92.526118\n",
       "207     92.391224\n",
       "208     92.260080\n",
       "209     92.133437\n",
       "210     92.013543\n",
       "211     91.899650\n",
       "212     91.792506\n",
       "213     91.691363\n",
       "214     91.595471\n",
       "215     91.504828\n",
       "216     91.418685\n",
       "217     91.334792\n",
       "218     91.253900\n",
       "219     91.175257\n",
       "220     91.097365\n",
       "221     91.020223\n",
       "222     90.943830\n",
       "223     90.866688\n",
       "224     90.789545\n",
       "225     90.711653\n",
       "226     90.633760\n",
       "227     90.554368\n",
       "228     90.474975\n",
       "229     90.394833\n",
       "230     90.314690\n",
       "231     90.233798\n",
       "232     90.153655\n",
       "233     90.073513\n",
       "234     89.993370\n",
       "235     89.914728\n",
       "236     89.836835\n",
       "237     89.759693\n",
       "238     89.684050\n",
       "239     89.610658\n",
       "240     89.538016\n",
       "241     89.466874\n",
       "242     89.397981\n",
       "243     89.330589\n",
       "244     89.264697\n",
       "245     89.200305\n",
       "246     89.136663\n",
       "247     89.074521\n",
       "248     89.013129\n",
       "249     88.952487\n",
       "250     88.892595\n",
       "251     88.832703\n",
       "252     88.773561\n",
       "253     88.713669\n",
       "254     88.653777\n",
       "255     88.593135\n",
       "256     88.532493\n",
       "257     88.470350\n",
       "258     88.407458\n",
       "259     88.343816\n",
       "260     88.278674\n",
       "261     88.212782\n",
       "262     88.145390\n",
       "263     88.077248\n",
       "264     88.007605\n",
       "265     87.936463\n",
       "266     87.864571\n",
       "267     87.791928\n",
       "268     87.717786\n",
       "269     87.643644\n",
       "270     87.568001\n",
       "271     87.492359\n",
       "272     87.415966\n",
       "273     87.339574\n",
       "274     87.263182\n",
       "275     87.186039\n",
       "276     87.108897\n",
       "277     87.031754\n",
       "278     86.954612\n",
       "279     86.877469\n",
       "280     86.800327\n",
       "281     86.723185\n",
       "282     86.646042\n",
       "283     86.568900\n",
       "284     86.491757\n",
       "285     86.415365\n",
       "286     86.338222\n",
       "287     86.260330\n",
       "288     86.183187\n",
       "289     86.105295\n",
       "290     86.027403\n",
       "291     85.948760\n",
       "292     85.870118\n",
       "293     85.790725\n",
       "294     85.710583\n",
       "295     85.630440\n",
       "296     85.550298\n",
       "297     85.468655\n",
       "298     85.387012\n",
       "299     85.304620\n",
       "300     85.222227\n",
       "301     85.139085\n",
       "302     85.055192\n",
       "303     84.970549\n",
       "304     84.885907\n",
       "305     84.800514\n",
       "306     84.715122\n",
       "307     84.628979\n",
       "308     84.542836\n",
       "309     84.455944\n",
       "310     84.369051\n",
       "311     84.281408\n",
       "312     84.193765\n",
       "313     84.105373\n",
       "314     84.017730\n",
       "315     83.929337\n",
       "316     83.840945\n",
       "317     83.751802\n",
       "318     83.663409\n",
       "319     83.574266\n",
       "320     83.485124\n",
       "321     83.395981\n",
       "322     83.306088\n",
       "323     83.216945\n",
       "324     83.127053\n",
       "325     83.037160\n",
       "326     82.947267\n",
       "327     82.857374\n",
       "328     82.767482\n",
       "329     82.676839\n",
       "330     82.586946\n",
       "331     82.496303\n",
       "332     82.405661\n",
       "333     82.315018\n",
       "334     82.223625\n",
       "335     82.132232\n",
       "336     82.041589\n",
       "337     81.950197\n",
       "338     81.858054\n",
       "339     81.766661\n",
       "340     81.675268\n",
       "341     81.583125\n",
       "342     81.490983\n",
       "343     81.398840\n",
       "344     81.307447\n",
       "345     81.215304\n",
       "346     81.123161\n",
       "347     81.031018\n",
       "348     80.938876\n",
       "349     80.846733\n",
       "350     80.754590\n",
       "351     80.662447\n",
       "352     80.570304\n",
       "353     80.478912\n",
       "354     80.387519\n",
       "355     80.295376\n",
       "356     80.204733\n",
       "357     80.113340\n",
       "358     80.022698\n",
       "359     79.931305\n",
       "360     79.841412\n",
       "361     79.750769\n",
       "362     79.660877\n",
       "363     79.570984\n",
       "364     79.481841\n",
       "365     79.391948\n",
       "366     79.303556\n",
       "367     79.214413\n",
       "368     79.126020\n",
       "369     79.038377\n",
       "370     78.949985\n",
       "371     78.862342\n",
       "372     78.775449\n",
       "373     78.688557\n",
       "374     78.601664\n",
       "375     78.515521\n",
       "376     78.429379\n",
       "377     78.343236\n",
       "378     78.257843\n",
       "379     78.173201\n",
       "380     78.087808\n",
       "381     78.003165\n",
       "382     77.919273\n",
       "383     77.835380\n",
       "384     77.751488\n",
       "385     77.668345\n",
       "386     77.585202\n",
       "387     77.502810\n",
       "388     77.420417\n",
       "389     77.338025\n",
       "390     77.256382\n",
       "391     77.174740\n",
       "392     77.093847\n",
       "393     77.012955\n",
       "394     76.932062\n",
       "395     76.851919\n",
       "396     76.771777\n",
       "397     76.691634\n",
       "398     76.612242\n",
       "399     76.532849\n",
       "400     76.454207\n",
       "401     76.375564\n",
       "402     76.296922\n",
       "403     76.219030\n",
       "404     76.140387\n",
       "405     76.063245\n",
       "406     75.985352\n",
       "407     75.908210\n",
       "408     75.831067\n",
       "409     75.754675\n",
       "410     75.679032\n",
       "411     75.634891\n",
       "Name: 20, dtype: float64"
      ]
     },
     "execution_count": 129,
     "metadata": {},
     "output_type": "execute_result"
    }
   ],
   "source": [
    "#define wave (initially using perfect test wave)\n",
    "wave = TestPW[20]\n",
    "wave"
   ]
  },
  {
   "cell_type": "code",
   "execution_count": 130,
   "metadata": {},
   "outputs": [],
   "source": [
    "#identifying first 3 indexes\n",
    "beg = 0\n",
    "end = len(wave) - 1\n",
    "sysMaxi = wave.idxmax()"
   ]
  },
  {
   "cell_type": "code",
   "execution_count": 48,
   "metadata": {},
   "outputs": [
    {
     "data": {
      "text/plain": [
       "37021.28253218001"
      ]
     },
     "execution_count": 48,
     "metadata": {},
     "output_type": "execute_result"
    }
   ],
   "source": [
    "#pp_pres\n",
    "pp_pres = sum(wave)\n",
    "pp_pres"
   ]
  },
  {
   "cell_type": "code",
   "execution_count": 73,
   "metadata": {},
   "outputs": [
    {
     "data": {
      "text/plain": [
       "94.88119034444443"
      ]
     },
     "execution_count": 73,
     "metadata": {},
     "output_type": "execute_result"
    }
   ],
   "source": [
    "#avg_sys_rise\n",
    "avg_sys_rise = wave[0:sysMaxi].mean()\n",
    "avg_sys_rise"
   ]
  },
  {
   "cell_type": "code",
   "execution_count": 70,
   "metadata": {},
   "outputs": [
    {
     "data": {
      "text/plain": [
       "11101.0992703"
      ]
     },
     "execution_count": 70,
     "metadata": {},
     "output_type": "execute_result"
    }
   ],
   "source": [
    "#sys_rise_area\n",
    "sys_rise_area = sum(wave[0:sysMaxi])\n",
    "sys_rise_area"
   ]
  },
  {
   "cell_type": "code",
   "execution_count": 74,
   "metadata": {},
   "outputs": [
    {
     "data": {
      "text/plain": [
       "117"
      ]
     },
     "execution_count": 74,
     "metadata": {},
     "output_type": "execute_result"
    }
   ],
   "source": [
    "#t_sys_rise\n",
    "t_sys_rise = sysMaxi\n",
    "t_sys_rise"
   ]
  },
  {
   "cell_type": "code",
   "execution_count": 80,
   "metadata": {},
   "outputs": [
    {
     "data": {
      "text/plain": [
       "87.86502800637285"
      ]
     },
     "execution_count": 80,
     "metadata": {},
     "output_type": "execute_result"
    }
   ],
   "source": [
    "#avg_dec\n",
    "avg_dec = wave[sysMaxi:end].mean()\n",
    "avg_dec"
   ]
  },
  {
   "cell_type": "code",
   "execution_count": 83,
   "metadata": {},
   "outputs": [
    {
     "data": {
      "text/plain": [
       "295"
      ]
     },
     "execution_count": 83,
     "metadata": {},
     "output_type": "execute_result"
    }
   ],
   "source": [
    "#t_dec\n",
    "t_dec = end - sysMaxi\n",
    "t_dec"
   ]
  },
  {
   "cell_type": "code",
   "execution_count": 82,
   "metadata": {},
   "outputs": [
    {
     "data": {
      "text/plain": [
       "25920.183261879993"
      ]
     },
     "execution_count": 82,
     "metadata": {},
     "output_type": "execute_result"
    }
   ],
   "source": [
    "#dec_area\n",
    "dec_area = sum(wave[sysMaxi:end])\n",
    "dec_area"
   ]
  },
  {
   "cell_type": "code",
   "execution_count": 101,
   "metadata": {},
   "outputs": [],
   "source": [
    "#setting bounds for finding dicrotic notch and diastolic pressure\n",
    "diff = wave.diff()\n",
    "upperBound = round(sysMaxi + .3125*len(wave))"
   ]
  },
  {
   "cell_type": "code",
   "execution_count": 106,
   "metadata": {},
   "outputs": [
    {
     "data": {
      "text/plain": [
       "150"
      ]
     },
     "execution_count": 106,
     "metadata": {},
     "output_type": "execute_result"
    }
   ],
   "source": [
    "#dicrotic notch\n",
    "for i in range(sysMaxi+1,upperBound):\n",
    "    if diff[i] > 0 and diff[i+1] > 0:\n",
    "        break\n",
    "dicNotch = i\n",
    "dicNotch"
   ]
  },
  {
   "cell_type": "code",
   "execution_count": 108,
   "metadata": {},
   "outputs": [
    {
     "data": {
      "text/plain": [
       "156"
      ]
     },
     "execution_count": 108,
     "metadata": {},
     "output_type": "execute_result"
    }
   ],
   "source": [
    "#diastolic pressure\n",
    "for i in range(dicNotch+1,upperBound):\n",
    "    if diff[i] < 0 and diff[i+1] < 0:\n",
    "        break\n",
    "diaP = i\n",
    "diaP"
   ]
  },
  {
   "cell_type": "code",
   "execution_count": 110,
   "metadata": {},
   "outputs": [
    {
     "data": {
      "text/plain": [
       "95.65239824553333"
      ]
     },
     "execution_count": 110,
     "metadata": {},
     "output_type": "execute_result"
    }
   ],
   "source": [
    "#avg_sys\n",
    "avg_sys = wave[beg:dicNotch].mean()\n",
    "avg_sys"
   ]
  },
  {
   "cell_type": "code",
   "execution_count": 113,
   "metadata": {},
   "outputs": [
    {
     "data": {
      "text/plain": [
       "0.13286781079999999"
      ]
     },
     "execution_count": 113,
     "metadata": {},
     "output_type": "execute_result"
    }
   ],
   "source": [
    "#slope_sys\n",
    "slope_sys = (wave[dicNotch] - wave[0]) / dicNotch\n",
    "slope_sys"
   ]
  },
  {
   "cell_type": "code",
   "execution_count": 114,
   "metadata": {},
   "outputs": [
    {
     "data": {
      "text/plain": [
       "14347.85973683"
      ]
     },
     "execution_count": 114,
     "metadata": {},
     "output_type": "execute_result"
    }
   ],
   "source": [
    "#sys_area\n",
    "sys_area = sum(wave[0:dicNotch])\n",
    "sys_area"
   ]
  },
  {
   "cell_type": "code",
   "execution_count": 115,
   "metadata": {},
   "outputs": [
    {
     "data": {
      "text/plain": [
       "150"
      ]
     },
     "execution_count": 115,
     "metadata": {},
     "output_type": "execute_result"
    }
   ],
   "source": [
    "#t_sys\n",
    "t_sys = dicNotch\n",
    "t_sys"
   ]
  },
  {
   "cell_type": "code",
   "execution_count": 116,
   "metadata": {},
   "outputs": [
    {
     "data": {
      "text/plain": [
       "98.38668080393938"
      ]
     },
     "execution_count": 116,
     "metadata": {},
     "output_type": "execute_result"
    }
   ],
   "source": [
    "#avg_sys_dec\n",
    "avg_sys_dec = wave[sysMaxi:dicNotch].mean()\n",
    "avg_sys_dec"
   ]
  },
  {
   "cell_type": "code",
   "execution_count": 118,
   "metadata": {},
   "outputs": [
    {
     "data": {
      "text/plain": [
       "4.506999579999999"
      ]
     },
     "execution_count": 118,
     "metadata": {},
     "output_type": "execute_result"
    }
   ],
   "source": [
    "#dn_sys\n",
    "dn_sys = wave[sysMaxi] - wave[dicNotch]\n",
    "dn_sys"
   ]
  },
  {
   "cell_type": "code",
   "execution_count": 119,
   "metadata": {},
   "outputs": [
    {
     "data": {
      "text/plain": [
       "3246.7604665299996"
      ]
     },
     "execution_count": 119,
     "metadata": {},
     "output_type": "execute_result"
    }
   ],
   "source": [
    "#sys_dec_area\n",
    "sys_dec_area = sum(wave[sysMaxi:dicNotch])\n",
    "sys_dec_area"
   ]
  },
  {
   "cell_type": "code",
   "execution_count": 120,
   "metadata": {},
   "outputs": [
    {
     "data": {
      "text/plain": [
       "33"
      ]
     },
     "execution_count": 120,
     "metadata": {},
     "output_type": "execute_result"
    }
   ],
   "source": [
    "#t_sys_dec\n",
    "t_sys_dec = dicNotch - sysMaxi\n",
    "t_sys_dec"
   ]
  },
  {
   "cell_type": "code",
   "execution_count": 122,
   "metadata": {},
   "outputs": [
    {
     "data": {
      "text/plain": [
       "1.0306666139393883"
      ]
     },
     "execution_count": 122,
     "metadata": {},
     "output_type": "execute_result"
    }
   ],
   "source": [
    "#avg_sys_dec_nodia\n",
    "avg_sys_dec_nodia = avg_sys_dec - wave[diaP]\n",
    "avg_sys_dec_nodia"
   ]
  },
  {
   "cell_type": "code",
   "execution_count": 124,
   "metadata": {},
   "outputs": [
    {
     "data": {
      "text/plain": [
       "-1.7036159444666623"
      ]
     },
     "execution_count": 124,
     "metadata": {},
     "output_type": "execute_result"
    }
   ],
   "source": [
    "#avg_sys_nodia\n",
    "avg_sys_nodia = avg_sys - wave[diaP]\n",
    "avg_sys_nodia"
   ]
  },
  {
   "cell_type": "code",
   "execution_count": 125,
   "metadata": {},
   "outputs": [
    {
     "data": {
      "text/plain": [
       "-2.4748238455555622"
      ]
     },
     "execution_count": 125,
     "metadata": {},
     "output_type": "execute_result"
    }
   ],
   "source": [
    "#avg_sys_rise_nodia\n",
    "avg_sys_rise_nodia = avg_sys_rise - wave[diaP]\n",
    "avg_sys_rise_nodia"
   ]
  },
  {
   "cell_type": "code",
   "execution_count": 126,
   "metadata": {},
   "outputs": [
    {
     "data": {
      "text/plain": [
       "-9.490986183627143"
      ]
     },
     "execution_count": 126,
     "metadata": {},
     "output_type": "execute_result"
    }
   ],
   "source": [
    "#avg_dec_nodia\n",
    "avg_dec_nodia = avg_dec - wave[diaP]\n",
    "avg_dec_nodia"
   ]
  },
  {
   "cell_type": "code",
   "execution_count": 133,
   "metadata": {},
   "outputs": [
    {
     "data": {
      "text/plain": [
       "-0.07619701360153251"
      ]
     },
     "execution_count": 133,
     "metadata": {},
     "output_type": "execute_result"
    }
   ],
   "source": [
    "#slope_dia\n",
    "slope_dia = (wave[end] - wave[dicNotch]) / (end - dicNotch)\n",
    "slope_dia"
   ]
  },
  {
   "cell_type": "code",
   "execution_count": 134,
   "metadata": {},
   "outputs": [
    {
     "data": {
      "text/plain": [
       "261"
      ]
     },
     "execution_count": 134,
     "metadata": {},
     "output_type": "execute_result"
    }
   ],
   "source": [
    "#t_dia\n",
    "t_dia = end - dicNotch\n",
    "t_dia"
   ]
  },
  {
   "cell_type": "code",
   "execution_count": 136,
   "metadata": {},
   "outputs": [
    {
     "data": {
      "text/plain": [
       "86.5815628524138"
      ]
     },
     "execution_count": 136,
     "metadata": {},
     "output_type": "execute_result"
    }
   ],
   "source": [
    "#avg_dia\n",
    "avg_dia = wave[dicNotch:end].mean()\n",
    "avg_dia"
   ]
  },
  {
   "cell_type": "code",
   "execution_count": 139,
   "metadata": {},
   "outputs": [
    {
     "data": {
      "text/plain": [
       "1.8337027700000021"
      ]
     },
     "execution_count": 139,
     "metadata": {},
     "output_type": "execute_result"
    }
   ],
   "source": [
    "#dn_dia\n",
    "dn_dia = wave[diaP] - wave[dicNotch]\n",
    "dn_dia"
   ]
  },
  {
   "cell_type": "code",
   "execution_count": 141,
   "metadata": {},
   "outputs": [
    {
     "data": {
      "text/plain": [
       "-1.7036159444666623"
      ]
     },
     "execution_count": 141,
     "metadata": {},
     "output_type": "execute_result"
    }
   ],
   "source": [
    "#avg_sys_nodia\n",
    "avg_sys_nodia = avg_sys - wave[diaP]\n",
    "avg_sys_nodia"
   ]
  }
 ],
 "metadata": {
  "kernelspec": {
   "display_name": "Python 3",
   "language": "python",
   "name": "python3"
  },
  "language_info": {
   "codemirror_mode": {
    "name": "ipython",
    "version": 3
   },
   "file_extension": ".py",
   "mimetype": "text/x-python",
   "name": "python",
   "nbconvert_exporter": "python",
   "pygments_lexer": "ipython3",
   "version": "3.8.5"
  }
 },
 "nbformat": 4,
 "nbformat_minor": 4
}
