{
 "cells": [
  {
   "cell_type": "code",
   "execution_count": 1,
   "metadata": {},
   "outputs": [],
   "source": [
    "import pandas as pd\n",
    "import numpy as np\n",
    "from matplotlib import pyplot as plt\n",
    "pd.options.display.max_rows = 450"
   ]
  },
  {
   "cell_type": "code",
   "execution_count": 2,
   "metadata": {},
   "outputs": [],
   "source": [
    "mData = pd.read_csv(\"metricsF.csv\", header=None, index_col=None)"
   ]
  },
  {
   "cell_type": "code",
   "execution_count": 3,
   "metadata": {},
   "outputs": [
    {
     "data": {
      "text/html": [
       "<div>\n",
       "<style scoped>\n",
       "    .dataframe tbody tr th:only-of-type {\n",
       "        vertical-align: middle;\n",
       "    }\n",
       "\n",
       "    .dataframe tbody tr th {\n",
       "        vertical-align: top;\n",
       "    }\n",
       "\n",
       "    .dataframe thead th {\n",
       "        text-align: right;\n",
       "    }\n",
       "</style>\n",
       "<table border=\"1\" class=\"dataframe\">\n",
       "  <thead>\n",
       "    <tr style=\"text-align: right;\">\n",
       "      <th></th>\n",
       "      <th>0</th>\n",
       "      <th>1</th>\n",
       "      <th>2</th>\n",
       "      <th>3</th>\n",
       "      <th>4</th>\n",
       "      <th>5</th>\n",
       "      <th>6</th>\n",
       "      <th>7</th>\n",
       "      <th>8</th>\n",
       "      <th>9</th>\n",
       "      <th>...</th>\n",
       "      <th>15</th>\n",
       "      <th>16</th>\n",
       "      <th>17</th>\n",
       "      <th>18</th>\n",
       "      <th>19</th>\n",
       "      <th>20</th>\n",
       "      <th>21</th>\n",
       "      <th>22</th>\n",
       "      <th>23</th>\n",
       "      <th>24</th>\n",
       "    </tr>\n",
       "  </thead>\n",
       "  <tbody>\n",
       "    <tr>\n",
       "      <th>1</th>\n",
       "      <td>1</td>\n",
       "      <td>14314.000000</td>\n",
       "      <td>79.067970</td>\n",
       "      <td>4158.800000</td>\n",
       "      <td>52.333333</td>\n",
       "      <td>71.100481</td>\n",
       "      <td>138.666667</td>\n",
       "      <td>9915.866667</td>\n",
       "      <td>80.821811</td>\n",
       "      <td>0.151325</td>\n",
       "      <td>...</td>\n",
       "      <td>25.333333</td>\n",
       "      <td>5.441444</td>\n",
       "      <td>3.235418</td>\n",
       "      <td>1.898974</td>\n",
       "      <td>-7.297585</td>\n",
       "      <td>-0.112864</td>\n",
       "      <td>113.333333</td>\n",
       "      <td>67.907632</td>\n",
       "      <td>4.733333</td>\n",
       "      <td>3.235418</td>\n",
       "    </tr>\n",
       "    <tr>\n",
       "      <th>2</th>\n",
       "      <td>1</td>\n",
       "      <td>19564.925000</td>\n",
       "      <td>112.654855</td>\n",
       "      <td>6184.775000</td>\n",
       "      <td>55.111111</td>\n",
       "      <td>101.298073</td>\n",
       "      <td>133.500000</td>\n",
       "      <td>13490.725000</td>\n",
       "      <td>117.789179</td>\n",
       "      <td>0.431161</td>\n",
       "      <td>...</td>\n",
       "      <td>27.777778</td>\n",
       "      <td>12.605049</td>\n",
       "      <td>2.130657</td>\n",
       "      <td>-2.917176</td>\n",
       "      <td>-14.380514</td>\n",
       "      <td>-0.332876</td>\n",
       "      <td>104.333333</td>\n",
       "      <td>94.134850</td>\n",
       "      <td>0.955556</td>\n",
       "      <td>2.130657</td>\n",
       "    </tr>\n",
       "    <tr>\n",
       "      <th>4</th>\n",
       "      <td>1</td>\n",
       "      <td>13593.333330</td>\n",
       "      <td>93.054986</td>\n",
       "      <td>3283.716667</td>\n",
       "      <td>35.615385</td>\n",
       "      <td>86.371398</td>\n",
       "      <td>118.769231</td>\n",
       "      <td>10242.450000</td>\n",
       "      <td>95.804210</td>\n",
       "      <td>0.096287</td>\n",
       "      <td>...</td>\n",
       "      <td>30.214286</td>\n",
       "      <td>9.009999</td>\n",
       "      <td>7.537670</td>\n",
       "      <td>5.679777</td>\n",
       "      <td>-2.457684</td>\n",
       "      <td>-0.076627</td>\n",
       "      <td>87.923077</td>\n",
       "      <td>82.398690</td>\n",
       "      <td>5.166667</td>\n",
       "      <td>7.537670</td>\n",
       "    </tr>\n",
       "    <tr>\n",
       "      <th>11</th>\n",
       "      <td>1</td>\n",
       "      <td>9886.533333</td>\n",
       "      <td>75.552289</td>\n",
       "      <td>3442.800000</td>\n",
       "      <td>45.600000</td>\n",
       "      <td>71.513324</td>\n",
       "      <td>88.250000</td>\n",
       "      <td>6372.400000</td>\n",
       "      <td>77.374681</td>\n",
       "      <td>0.246374</td>\n",
       "      <td>...</td>\n",
       "      <td>19.666667</td>\n",
       "      <td>5.051641</td>\n",
       "      <td>0.571637</td>\n",
       "      <td>-1.517770</td>\n",
       "      <td>-4.894211</td>\n",
       "      <td>-0.237614</td>\n",
       "      <td>69.333333</td>\n",
       "      <td>68.957367</td>\n",
       "      <td>-0.200000</td>\n",
       "      <td>0.571637</td>\n",
       "    </tr>\n",
       "  </tbody>\n",
       "</table>\n",
       "<p>4 rows × 25 columns</p>\n",
       "</div>"
      ],
      "text/plain": [
       "    0             1           2            3          4           5   \\\n",
       "1    1  14314.000000   79.067970  4158.800000  52.333333   71.100481   \n",
       "2    1  19564.925000  112.654855  6184.775000  55.111111  101.298073   \n",
       "4    1  13593.333330   93.054986  3283.716667  35.615385   86.371398   \n",
       "11   1   9886.533333   75.552289  3442.800000  45.600000   71.513324   \n",
       "\n",
       "            6             7           8         9   ...         15         16  \\\n",
       "1   138.666667   9915.866667   80.821811  0.151325  ...  25.333333   5.441444   \n",
       "2   133.500000  13490.725000  117.789179  0.431161  ...  27.777778  12.605049   \n",
       "4   118.769231  10242.450000   95.804210  0.096287  ...  30.214286   9.009999   \n",
       "11   88.250000   6372.400000   77.374681  0.246374  ...  19.666667   5.051641   \n",
       "\n",
       "          17        18         19        20          21         22        23  \\\n",
       "1   3.235418  1.898974  -7.297585 -0.112864  113.333333  67.907632  4.733333   \n",
       "2   2.130657 -2.917176 -14.380514 -0.332876  104.333333  94.134850  0.955556   \n",
       "4   7.537670  5.679777  -2.457684 -0.076627   87.923077  82.398690  5.166667   \n",
       "11  0.571637 -1.517770  -4.894211 -0.237614   69.333333  68.957367 -0.200000   \n",
       "\n",
       "          24  \n",
       "1   3.235418  \n",
       "2   2.130657  \n",
       "4   7.537670  \n",
       "11  0.571637  \n",
       "\n",
       "[4 rows x 25 columns]"
      ]
     },
     "execution_count": 3,
     "metadata": {},
     "output_type": "execute_result"
    }
   ],
   "source": [
    "F = mData.iloc[[1,2,4,11],:]\n",
    "noF = mData.iloc[[0,3,5,6,7,8,9,10,12,13,14,15,16,17],:]\n",
    "F"
   ]
  },
  {
   "cell_type": "code",
   "execution_count": 48,
   "metadata": {},
   "outputs": [
    {
     "data": {
      "image/png": "[encoded data removed]",
      "text/plain": [
       "<Figure size 648x288 with 2 Axes>"
      ]
     },
     "metadata": {
      "needs_background": "light"
     },
     "output_type": "display_data"
    }
   ],
   "source": [
    "F = mData.iloc[[1,2,4,11],:]\n",
    "noF = mData.iloc[[0,3,5,6,7,8,9,10,12,13,14,15,16,17],:]\n",
    "\n",
    "\n",
    "\n",
    "labels = ['Failure']\n",
    "fig, (ax1, ax2) = plt.subplots(nrows=1, ncols=2, figsize=(9, 4))\n",
    "\n",
    "bplot1 = ax1.boxplot(F.iloc[:,1],\n",
    "                     vert=True,  # vertical box alignment\n",
    "                     patch_artist=True,  # fill with color\n",
    "                     labels=labels)  # will be used to label x-ticks\n",
    "ax1.set_title('Failure')\n",
    "\n",
    "labels = ['Non-Failure']\n",
    "bplot2 = ax2.boxplot(noF.iloc[:,1],\n",
    "                     vert=True,  # vertical box alignment\n",
    "                     patch_artist=True,  # fill with color\n",
    "                     labels=labels)  # will be used to label x-ticks\n",
    "ax2.set_title('Non-failure')\n",
    "\n",
    "\n",
    "\n",
    "plt.show()"
   ]
  },
  {
   "cell_type": "code",
   "execution_count": 58,
   "metadata": {},
   "outputs": [],
   "source": [
    "#Split train-test data manually due to lack of data (ensure 2 HF in train and test data)\n",
    "y = mData.iloc[:,0]\n",
    "X = mData.iloc[:,1:]\n",
    "\n",
    "X_train = X.iloc[[0,1,4,5,7,9,13,15,17],:]\n",
    "y_train = mData.iloc[[0,1,4,5,7,9,13,15,17],0]\n",
    "X_test = X.iloc[[2,3,6,8,10,11,12,14,16],:]\n",
    "y_test = mData.iloc[[2,3,6,8,10,11,12,14,16],0]"
   ]
  },
  {
   "cell_type": "code",
   "execution_count": 53,
   "metadata": {},
   "outputs": [],
   "source": [
    "#Split train-test data manually due to lack of data (ensure 2 HF in train and test data) - method 2\n",
    "y = mData.iloc[:,0]\n",
    "X = mData.iloc[:,1:]\n",
    "\n",
    "X_train = X.iloc[[1,2,3,5,6,7,8,14,15],:]\n",
    "y_train = mData.iloc[[1,2,3,5,6,7,8,14,15],0]\n",
    "X_test = X.iloc[[0,4,9,10,11,12,13,16,17],:]\n",
    "y_test = mData.iloc[[0,4,9,10,11,12,13,16,17],0]"
   ]
  },
  {
   "cell_type": "code",
   "execution_count": 59,
   "metadata": {},
   "outputs": [
    {
     "name": "stdout",
     "output_type": "stream",
     "text": [
      "   True  Prediction\n",
      "0     1           0\n",
      "1     0           0\n",
      "2     0           0\n",
      "3     0           1\n",
      "4     0           0\n",
      "5     1           1\n",
      "6     0           0\n",
      "7     0           0\n",
      "8     0           0\n",
      "Accuracy: 0.7777777777777778\n",
      "Precision: 0.5\n",
      "Recall: 0.5\n"
     ]
    }
   ],
   "source": [
    "import sklearn as sk\n",
    "from sklearn.linear_model import LogisticRegression\n",
    "from sklearn import metrics\n",
    "model = LogisticRegression()\n",
    "model.fit(X_train, y_train)\n",
    "\n",
    "y_pred = pd.Series(model.predict(X_test))\n",
    "y_test = y_test.reset_index(drop=True)\n",
    "z = pd.concat([y_test, y_pred], axis=1)\n",
    "z.columns = ['True', 'Prediction']\n",
    "print(z)\n",
    "print(\"Accuracy:\", metrics.accuracy_score(y_test, y_pred))\n",
    "print(\"Precision:\", metrics.precision_score(y_test, y_pred))\n",
    "print(\"Recall:\", metrics.recall_score(y_test, y_pred))\n"
   ]
  },
  {
   "cell_type": "code",
   "execution_count": 60,
   "metadata": {},
   "outputs": [
    {
     "name": "stdout",
     "output_type": "stream",
     "text": [
      "   True  Prediction\n",
      "0     1           0\n",
      "1     0           0\n",
      "2     0           0\n",
      "3     0           1\n",
      "4     0           0\n",
      "5     1           0\n",
      "6     0           0\n",
      "7     0           0\n",
      "8     0           0\n",
      "Accuracy: 0.6666666666666666\n",
      "Precision: 0.0\n",
      "Recall: 0.0\n"
     ]
    }
   ],
   "source": [
    "from sklearn.tree import DecisionTreeClassifier\n",
    "classifier = DecisionTreeClassifier()\n",
    "classifier.fit(X_train, y_train)\n",
    "\n",
    "y_pred = pd.Series(classifier.predict(X_test))\n",
    "y_test = y_test.reset_index(drop=True)\n",
    "z = pd.concat([y_test, y_pred], axis=1)\n",
    "z.columns = ['True', 'Prediction']\n",
    "print(z)\n",
    "print(\"Accuracy:\", metrics.accuracy_score(y_test, y_pred))\n",
    "print(\"Precision:\", metrics.precision_score(y_test, y_pred))\n",
    "print(\"Recall:\", metrics.recall_score(y_test, y_pred))\n"
   ]
  },
  {
   "cell_type": "code",
   "execution_count": 56,
   "metadata": {},
   "outputs": [
    {
     "name": "stdout",
     "output_type": "stream",
     "text": [
      "   True  Prediction\n",
      "0     0           0\n",
      "1     1           0\n",
      "2     0           0\n",
      "3     0           0\n",
      "4     1           0\n",
      "5     0           0\n",
      "6     0           0\n",
      "7     0           0\n",
      "8     0           0\n",
      "Accuracy: 0.7777777777777778\n",
      "Precision: 0.0\n",
      "Recall: 0.0\n"
     ]
    },
    {
     "name": "stderr",
     "output_type": "stream",
     "text": [
      "/Users/amitvallabh/Downloads/anaconda3/lib/python3.8/site-packages/sklearn/metrics/_classification.py:1221: UndefinedMetricWarning: Precision is ill-defined and being set to 0.0 due to no predicted samples. Use `zero_division` parameter to control this behavior.\n",
      "  _warn_prf(average, modifier, msg_start, len(result))\n"
     ]
    }
   ],
   "source": [
    "from sklearn import svm\n",
    "classifier = svm.SVC()\n",
    "classifier.fit(X_train, y_train)\n",
    "\n",
    "y_pred = pd.Series(classifier.predict(X_test))\n",
    "y_test = y_test.reset_index(drop=True)\n",
    "z = pd.concat([y_test, y_pred], axis=1)\n",
    "z.columns = ['True', 'Prediction']\n",
    "print(z)\n",
    "print(\"Accuracy:\", metrics.accuracy_score(y_test, y_pred))\n",
    "print(\"Precision:\", metrics.precision_score(y_test, y_pred))\n",
    "print(\"Recall:\", metrics.recall_score(y_test, y_pred))\n"
   ]
  },
  {
   "cell_type": "code",
   "execution_count": 57,
   "metadata": {},
   "outputs": [
    {
     "name": "stdout",
     "output_type": "stream",
     "text": [
      "   True  Prediction\n",
      "0     0           0\n",
      "1     1           0\n",
      "2     0           0\n",
      "3     0           0\n",
      "4     1           0\n",
      "5     0           0\n",
      "6     0           0\n",
      "7     0           0\n",
      "8     0           0\n",
      "Accuracy: 0.7777777777777778\n",
      "Precision: 0.0\n",
      "Recall: 0.0\n"
     ]
    },
    {
     "name": "stderr",
     "output_type": "stream",
     "text": [
      "/Users/amitvallabh/Downloads/anaconda3/lib/python3.8/site-packages/sklearn/metrics/_classification.py:1221: UndefinedMetricWarning: Precision is ill-defined and being set to 0.0 due to no predicted samples. Use `zero_division` parameter to control this behavior.\n",
      "  _warn_prf(average, modifier, msg_start, len(result))\n"
     ]
    }
   ],
   "source": [
    "from sklearn.neighbors import KNeighborsClassifier\n",
    "classifier = KNeighborsClassifier(n_neighbors=3)\n",
    "classifier.fit(X_train, y_train)\n",
    "\n",
    "y_pred = pd.Series(classifier.predict(X_test))\n",
    "y_test = y_test.reset_index(drop=True)\n",
    "z = pd.concat([y_test, y_pred], axis=1)\n",
    "z.columns = ['True', 'Prediction']\n",
    "print(z)\n",
    "print(\"Accuracy:\", metrics.accuracy_score(y_test, y_pred))\n",
    "print(\"Precision:\", metrics.precision_score(y_test, y_pred))\n",
    "print(\"Recall:\", metrics.recall_score(y_test, y_pred))\n"
   ]
  },
  {
   "cell_type": "code",
   "execution_count": 52,
   "metadata": {},
   "outputs": [
    {
     "name": "stdout",
     "output_type": "stream",
     "text": [
      "   True  Prediction\n",
      "0     1           0\n",
      "1     0           0\n",
      "2     0           0\n",
      "3     0           0\n",
      "4     0           0\n",
      "5     1           0\n",
      "6     0           0\n",
      "7     0           0\n",
      "8     0           0\n",
      "Accuracy: 0.7777777777777778\n",
      "Precision: 0.0\n",
      "Recall: 0.0\n"
     ]
    },
    {
     "name": "stderr",
     "output_type": "stream",
     "text": [
      "/Users/amitvallabh/Downloads/anaconda3/lib/python3.8/site-packages/sklearn/metrics/_classification.py:1221: UndefinedMetricWarning: Precision is ill-defined and being set to 0.0 due to no predicted samples. Use `zero_division` parameter to control this behavior.\n",
      "  _warn_prf(average, modifier, msg_start, len(result))\n"
     ]
    }
   ],
   "source": [
    "from sklearn.naive_bayes import GaussianNB\n",
    "classifier = GaussianNB()\n",
    "classifier.fit(X_train, y_train)\n",
    "\n",
    "y_pred = pd.Series(classifier.predict(X_test))\n",
    "y_test = y_test.reset_index(drop=True)\n",
    "z = pd.concat([y_test, y_pred], axis=1)\n",
    "z.columns = ['True', 'Prediction']\n",
    "print(z)\n",
    "print(\"Accuracy:\", metrics.accuracy_score(y_test, y_pred))\n",
    "print(\"Precision:\", metrics.precision_score(y_test, y_pred))\n",
    "print(\"Recall:\", metrics.recall_score(y_test, y_pred))"
   ]
  },
  {
   "cell_type": "code",
   "execution_count": null,
   "metadata": {},
   "outputs": [],
   "source": []
  }
 ],
 "metadata": {
  "kernelspec": {
   "display_name": "Python 3",
   "language": "python",
   "name": "python3"
  },
  "language_info": {
   "codemirror_mode": {
    "name": "ipython",
    "version": 3
   },
   "file_extension": ".py",
   "mimetype": "text/x-python",
   "name": "python",
   "nbconvert_exporter": "python",
   "pygments_lexer": "ipython3",
   "version": "3.8.5"
  }
 },
 "nbformat": 4,
 "nbformat_minor": 4
}
