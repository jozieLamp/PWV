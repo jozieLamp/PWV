{
 "cells": [
  {
   "cell_type": "code",
   "execution_count": 31,
   "metadata": {},
   "outputs": [],
   "source": [
    "import numpy as np\n",
    "import pandas as pd\n",
    "from keras.models import Sequential\n",
    "from keras.layers import Dense\n",
    "from keras.layers import Flatten\n",
    "from keras.layers import Dropout\n",
    "from keras.layers import LSTM\n",
    "from keras.layers import TimeDistributed\n",
    "from keras.layers import ConvLSTM2D\n",
    "from keras.utils import to_categorical\n",
    "from matplotlib import pyplot\n",
    "from sklearn.model_selection import train_test_split"
   ]
  },
  {
   "cell_type": "code",
   "execution_count": 32,
   "metadata": {},
   "outputs": [],
   "source": [
    "def summarize_results(scores):\n",
    "\tprint(scores)\n",
    "\tm, s = np.mean(scores), np.std(scores)\n",
    "\tprint('Accuracy: %.3f%% (+/-%.3f)' % (m, s))"
   ]
  },
  {
   "cell_type": "code",
   "execution_count": 97,
   "metadata": {},
   "outputs": [],
   "source": [
    "# load data\n",
    "x = pd.read_csv('waveDataDrop.csv')\n",
    "y = pd.read_csv('y.csv', header=None)\n",
    "trainX, testX, trainy, testy=train_test_split(x,y)\n",
    "trainy = trainy.to_numpy()\n",
    "trainX = trainX.to_numpy()\n",
    "testX = testX.to_numpy()\n",
    "testy = testy.to_numpy()\n",
    "scores = list()"
   ]
  },
  {
   "cell_type": "code",
   "execution_count": 98,
   "metadata": {},
   "outputs": [],
   "source": [
    "verbose, epochs, batch_size = 0, 25, 64\n",
    "n_timesteps, n_features, n_outputs = trainX.shape[1], 1, trainy.shape[0]\n",
    "# reshape into subsequences (samples, time steps, rows, cols, channels)\n",
    "n_steps, n_length = 4, 32\n",
    "trainX = trainX.reshape((trainX.shape[0], 1, 1, trainX.shape[1], 1))\n",
    "testX = testX.reshape((testX.shape[0], 1, 1, testX.shape[1], 1))\n",
    "# trainX = trainX.reshape((trainX.shape[0], n_steps, 1, n_length, n_features))\n",
    "# testX = testX.reshape((testX.shape[0], n_steps, 1, n_length, n_features))\n",
    "# trainX = trainX.reshape((1, 1, trainX.shape[0], trainX.shape[1], 1))\n",
    "# testX = testX.reshape((1, 1, testX.shape[0], testX.shape[1], 1))"
   ]
  },
  {
   "cell_type": "code",
   "execution_count": 99,
   "metadata": {},
   "outputs": [
    {
     "data": {
      "text/plain": [
       "(15, 1, 1, 1679, 1)"
      ]
     },
     "execution_count": 99,
     "metadata": {},
     "output_type": "execute_result"
    }
   ],
   "source": [
    "# reshape into subsequences (samples, time steps, rows, cols, channels) https://machinelearningmastery.com/how-to-develop-rnn-models-for-human-activity-recognition-time-series-classification/\n",
    "# Samples: n, for the number of windows in the dataset.\n",
    "# Time: 4, for the four subsequences that we split a window of 128 time steps into.\n",
    "# Rows: 1, for the one-dimensional shape of each subsequence.\n",
    "# Columns: 32, for the 32 time steps in an input subsequence.\n",
    "# Channels: 9, for the nine input variables.\n",
    "trainX.shape"
   ]
  },
  {
   "cell_type": "code",
   "execution_count": 100,
   "metadata": {},
   "outputs": [
    {
     "ename": "ValueError",
     "evalue": "Exception encountered when calling layer \"conv_lstm2d_20\" (type ConvLSTM2D).\n\nNegative dimension size caused by subtracting 3 from 1 for '{{node conv_lstm2d_20/convolution}} = Conv2D[T=DT_FLOAT, data_format=\"NHWC\", dilations=[1, 1, 1, 1], explicit_paddings=[], padding=\"VALID\", strides=[1, 1, 1, 1], use_cudnn_on_gpu=true](conv_lstm2d_20/Sum, conv_lstm2d_20/zeros)' with input shapes: [?,15,1,1], [1,3,1,64].\n\nCall arguments received by layer \"conv_lstm2d_20\" (type ConvLSTM2D):\n  • inputs=tf.Tensor(shape=(None, 1, 15, 1, 1), dtype=float32)\n  • mask=None\n  • training=False\n  • initial_state=None",
     "output_type": "error",
     "traceback": [
      "\u001b[0;31m---------------------------------------------------------------------------\u001b[0m",
      "\u001b[0;31mValueError\u001b[0m                                Traceback (most recent call last)",
      "\u001b[1;32m/home/anrath/projects/research/PWV/ml/data.ipynb Cell 6'\u001b[0m in \u001b[0;36m<cell line: 3>\u001b[0;34m()\u001b[0m\n\u001b[1;32m      <a href='vscode-notebook-cell://wsl%2Bubuntu/home/anrath/projects/research/PWV/ml/data.ipynb#ch0000017vscode-remote?line=0'>1</a>\u001b[0m \u001b[39m# define model\u001b[39;00m\n\u001b[1;32m      <a href='vscode-notebook-cell://wsl%2Bubuntu/home/anrath/projects/research/PWV/ml/data.ipynb#ch0000017vscode-remote?line=1'>2</a>\u001b[0m model \u001b[39m=\u001b[39m Sequential()\n\u001b[0;32m----> <a href='vscode-notebook-cell://wsl%2Bubuntu/home/anrath/projects/research/PWV/ml/data.ipynb#ch0000017vscode-remote?line=2'>3</a>\u001b[0m model\u001b[39m.\u001b[39;49madd(ConvLSTM2D(filters\u001b[39m=\u001b[39;49m\u001b[39m64\u001b[39;49m, kernel_size\u001b[39m=\u001b[39;49m(\u001b[39m1\u001b[39;49m,\u001b[39m3\u001b[39;49m), activation\u001b[39m=\u001b[39;49m\u001b[39m'\u001b[39;49m\u001b[39mrelu\u001b[39;49m\u001b[39m'\u001b[39;49m, input_shape\u001b[39m=\u001b[39;49m(\u001b[39m1\u001b[39;49m, trainX\u001b[39m.\u001b[39;49mshape[\u001b[39m0\u001b[39;49m], trainX\u001b[39m.\u001b[39;49mshape[\u001b[39m1\u001b[39;49m], \u001b[39m1\u001b[39;49m)))\n\u001b[1;32m      <a href='vscode-notebook-cell://wsl%2Bubuntu/home/anrath/projects/research/PWV/ml/data.ipynb#ch0000017vscode-remote?line=3'>4</a>\u001b[0m model\u001b[39m.\u001b[39madd(Dropout(\u001b[39m0.5\u001b[39m))\n\u001b[1;32m      <a href='vscode-notebook-cell://wsl%2Bubuntu/home/anrath/projects/research/PWV/ml/data.ipynb#ch0000017vscode-remote?line=4'>5</a>\u001b[0m model\u001b[39m.\u001b[39madd(Flatten())\n",
      "File \u001b[0;32m~/miniconda3/envs/bio/lib/python3.10/site-packages/tensorflow/python/training/tracking/base.py:587\u001b[0m, in \u001b[0;36mno_automatic_dependency_tracking.<locals>._method_wrapper\u001b[0;34m(self, *args, **kwargs)\u001b[0m\n\u001b[1;32m    <a href='file:///home/anrath/miniconda3/envs/bio/lib/python3.10/site-packages/tensorflow/python/training/tracking/base.py?line=584'>585</a>\u001b[0m \u001b[39mself\u001b[39m\u001b[39m.\u001b[39m_self_setattr_tracking \u001b[39m=\u001b[39m \u001b[39mFalse\u001b[39;00m  \u001b[39m# pylint: disable=protected-access\u001b[39;00m\n\u001b[1;32m    <a href='file:///home/anrath/miniconda3/envs/bio/lib/python3.10/site-packages/tensorflow/python/training/tracking/base.py?line=585'>586</a>\u001b[0m \u001b[39mtry\u001b[39;00m:\n\u001b[0;32m--> <a href='file:///home/anrath/miniconda3/envs/bio/lib/python3.10/site-packages/tensorflow/python/training/tracking/base.py?line=586'>587</a>\u001b[0m   result \u001b[39m=\u001b[39m method(\u001b[39mself\u001b[39;49m, \u001b[39m*\u001b[39;49margs, \u001b[39m*\u001b[39;49m\u001b[39m*\u001b[39;49mkwargs)\n\u001b[1;32m    <a href='file:///home/anrath/miniconda3/envs/bio/lib/python3.10/site-packages/tensorflow/python/training/tracking/base.py?line=587'>588</a>\u001b[0m \u001b[39mfinally\u001b[39;00m:\n\u001b[1;32m    <a href='file:///home/anrath/miniconda3/envs/bio/lib/python3.10/site-packages/tensorflow/python/training/tracking/base.py?line=588'>589</a>\u001b[0m   \u001b[39mself\u001b[39m\u001b[39m.\u001b[39m_self_setattr_tracking \u001b[39m=\u001b[39m previous_value  \u001b[39m# pylint: disable=protected-access\u001b[39;00m\n",
      "File \u001b[0;32m~/miniconda3/envs/bio/lib/python3.10/site-packages/keras/utils/traceback_utils.py:67\u001b[0m, in \u001b[0;36mfilter_traceback.<locals>.error_handler\u001b[0;34m(*args, **kwargs)\u001b[0m\n\u001b[1;32m     <a href='file:///home/anrath/miniconda3/envs/bio/lib/python3.10/site-packages/keras/utils/traceback_utils.py?line=64'>65</a>\u001b[0m \u001b[39mexcept\u001b[39;00m \u001b[39mException\u001b[39;00m \u001b[39mas\u001b[39;00m e:  \u001b[39m# pylint: disable=broad-except\u001b[39;00m\n\u001b[1;32m     <a href='file:///home/anrath/miniconda3/envs/bio/lib/python3.10/site-packages/keras/utils/traceback_utils.py?line=65'>66</a>\u001b[0m   filtered_tb \u001b[39m=\u001b[39m _process_traceback_frames(e\u001b[39m.\u001b[39m__traceback__)\n\u001b[0;32m---> <a href='file:///home/anrath/miniconda3/envs/bio/lib/python3.10/site-packages/keras/utils/traceback_utils.py?line=66'>67</a>\u001b[0m   \u001b[39mraise\u001b[39;00m e\u001b[39m.\u001b[39mwith_traceback(filtered_tb) \u001b[39mfrom\u001b[39;00m \u001b[39mNone\u001b[39m\n\u001b[1;32m     <a href='file:///home/anrath/miniconda3/envs/bio/lib/python3.10/site-packages/keras/utils/traceback_utils.py?line=67'>68</a>\u001b[0m \u001b[39mfinally\u001b[39;00m:\n\u001b[1;32m     <a href='file:///home/anrath/miniconda3/envs/bio/lib/python3.10/site-packages/keras/utils/traceback_utils.py?line=68'>69</a>\u001b[0m   \u001b[39mdel\u001b[39;00m filtered_tb\n",
      "File \u001b[0;32m~/miniconda3/envs/bio/lib/python3.10/site-packages/keras/backend.py:5685\u001b[0m, in \u001b[0;36mconv2d\u001b[0;34m(x, kernel, strides, padding, data_format, dilation_rate)\u001b[0m\n\u001b[1;32m   <a href='file:///home/anrath/miniconda3/envs/bio/lib/python3.10/site-packages/keras/backend.py?line=5682'>5683</a>\u001b[0m x, tf_data_format \u001b[39m=\u001b[39m _preprocess_conv2d_input(x, data_format)\n\u001b[1;32m   <a href='file:///home/anrath/miniconda3/envs/bio/lib/python3.10/site-packages/keras/backend.py?line=5683'>5684</a>\u001b[0m padding \u001b[39m=\u001b[39m _preprocess_padding(padding)\n\u001b[0;32m-> <a href='file:///home/anrath/miniconda3/envs/bio/lib/python3.10/site-packages/keras/backend.py?line=5684'>5685</a>\u001b[0m x \u001b[39m=\u001b[39m tf\u001b[39m.\u001b[39;49mcompat\u001b[39m.\u001b[39;49mv1\u001b[39m.\u001b[39;49mnn\u001b[39m.\u001b[39;49mconvolution(\n\u001b[1;32m   <a href='file:///home/anrath/miniconda3/envs/bio/lib/python3.10/site-packages/keras/backend.py?line=5685'>5686</a>\u001b[0m     \u001b[39minput\u001b[39;49m\u001b[39m=\u001b[39;49mx,\n\u001b[1;32m   <a href='file:///home/anrath/miniconda3/envs/bio/lib/python3.10/site-packages/keras/backend.py?line=5686'>5687</a>\u001b[0m     \u001b[39mfilter\u001b[39;49m\u001b[39m=\u001b[39;49mkernel,\n\u001b[1;32m   <a href='file:///home/anrath/miniconda3/envs/bio/lib/python3.10/site-packages/keras/backend.py?line=5687'>5688</a>\u001b[0m     dilation_rate\u001b[39m=\u001b[39;49mdilation_rate,\n\u001b[1;32m   <a href='file:///home/anrath/miniconda3/envs/bio/lib/python3.10/site-packages/keras/backend.py?line=5688'>5689</a>\u001b[0m     strides\u001b[39m=\u001b[39;49mstrides,\n\u001b[1;32m   <a href='file:///home/anrath/miniconda3/envs/bio/lib/python3.10/site-packages/keras/backend.py?line=5689'>5690</a>\u001b[0m     padding\u001b[39m=\u001b[39;49mpadding,\n\u001b[1;32m   <a href='file:///home/anrath/miniconda3/envs/bio/lib/python3.10/site-packages/keras/backend.py?line=5690'>5691</a>\u001b[0m     data_format\u001b[39m=\u001b[39;49mtf_data_format)\n\u001b[1;32m   <a href='file:///home/anrath/miniconda3/envs/bio/lib/python3.10/site-packages/keras/backend.py?line=5691'>5692</a>\u001b[0m \u001b[39mif\u001b[39;00m data_format \u001b[39m==\u001b[39m \u001b[39m'\u001b[39m\u001b[39mchannels_first\u001b[39m\u001b[39m'\u001b[39m \u001b[39mand\u001b[39;00m tf_data_format \u001b[39m==\u001b[39m \u001b[39m'\u001b[39m\u001b[39mNHWC\u001b[39m\u001b[39m'\u001b[39m:\n\u001b[1;32m   <a href='file:///home/anrath/miniconda3/envs/bio/lib/python3.10/site-packages/keras/backend.py?line=5692'>5693</a>\u001b[0m   x \u001b[39m=\u001b[39m tf\u001b[39m.\u001b[39mcompat\u001b[39m.\u001b[39mv1\u001b[39m.\u001b[39mtranspose(x, (\u001b[39m0\u001b[39m, \u001b[39m3\u001b[39m, \u001b[39m1\u001b[39m, \u001b[39m2\u001b[39m))  \u001b[39m# NHWC -> NCHW\u001b[39;00m\n",
      "\u001b[0;31mValueError\u001b[0m: Exception encountered when calling layer \"conv_lstm2d_20\" (type ConvLSTM2D).\n\nNegative dimension size caused by subtracting 3 from 1 for '{{node conv_lstm2d_20/convolution}} = Conv2D[T=DT_FLOAT, data_format=\"NHWC\", dilations=[1, 1, 1, 1], explicit_paddings=[], padding=\"VALID\", strides=[1, 1, 1, 1], use_cudnn_on_gpu=true](conv_lstm2d_20/Sum, conv_lstm2d_20/zeros)' with input shapes: [?,15,1,1], [1,3,1,64].\n\nCall arguments received by layer \"conv_lstm2d_20\" (type ConvLSTM2D):\n  • inputs=tf.Tensor(shape=(None, 1, 15, 1, 1), dtype=float32)\n  • mask=None\n  • training=False\n  • initial_state=None"
     ]
    }
   ],
   "source": [
    "# define model\n",
    "model = Sequential()\n",
    "model.add(ConvLSTM2D(filters=64, kernel_size=(1,3), activation='relu', input_shape=(1, trainX.shape[0], trainX.shape[1], 1))) # TODO Error\n",
    "model.add(Dropout(0.5))\n",
    "model.add(Flatten())\n",
    "model.add(Dense(100, activation='relu'))\n",
    "model.add(Dense(n_outputs, activation='softmax'))\n",
    "model.compile(loss='categorical_crossentropy', optimizer='adam', metrics=['accuracy'])\n",
    "# fit network\n",
    "model.fit(trainX, trainy, epochs=epochs, batch_size=batch_size, verbose=0)\n",
    "# evaluate model\n",
    "_, accuracy = model.evaluate(testX, testy, batch_size=batch_size, verbose=0)\n",
    "\n",
    "\n",
    "score = score * 100.0\n",
    "print('>#%d: %.3f' % (r+1, score))\n",
    "scores.append(score)\n",
    "\n",
    "summarize_results(scores)"
   ]
  },
  {
   "cell_type": "code",
   "execution_count": null,
   "metadata": {},
   "outputs": [],
   "source": []
  }
 ],
 "metadata": {
  "interpreter": {
   "hash": "6cf6ba46a1652da070414a319b31f7967f2173c7d6e5715e017fb576c56701cf"
  },
  "kernelspec": {
   "display_name": "Python 3.10.4 ('bio')",
   "language": "python",
   "name": "python3"
  },
  "language_info": {
   "codemirror_mode": {
    "name": "ipython",
    "version": 3
   },
   "file_extension": ".py",
   "mimetype": "text/x-python",
   "name": "python",
   "nbconvert_exporter": "python",
   "pygments_lexer": "ipython3",
   "version": "3.10.4"
  },
  "orig_nbformat": 4
 },
 "nbformat": 4,
 "nbformat_minor": 2
}
